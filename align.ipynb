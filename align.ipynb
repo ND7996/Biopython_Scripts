{
 "cells": [
  {
   "cell_type": "code",
   "execution_count": null,
   "metadata": {},
   "outputs": [],
   "source": []
  },
  {
   "cell_type": "code",
   "execution_count": null,
   "metadata": {},
   "outputs": [],
   "source": []
  },
  {
   "cell_type": "code",
   "execution_count": null,
   "metadata": {},
   "outputs": [],
   "source": []
  },
  {
   "cell_type": "code",
   "execution_count": 7,
   "metadata": {},
   "outputs": [
    {
     "name": "stdout",
     "output_type": "stream",
     "text": [
      "target            0 MCAAR-----------LAAAAAAA-------QS---VYAFSARPLAGGEPVSLGSLRGKV\n",
      "                  0 |---------------|--------------||---||||||||||||||||||||||||\n",
      "query             0 M----HHHHHHSSGVDL-------GTENLYFQSMQSVYAFSARPLAGGEPVSLGSLRGKV\n",
      "\n",
      "target           39 LLIENVASLUG-TTVRDYTQMNELQRRLGPRGLVVLGFPCNQFGHQENAKNEEILNSLKY\n",
      "                 60 |||||||||-|-||||||||||||||||||||||||||||||||||||||||||||||||\n",
      "query            49 LLIENVASL-GGTTVRDYTQMNELQRRLGPRGLVVLGFPCNQFGHQENAKNEEILNSLKY\n",
      "\n",
      "target           98 VRPGGGFEPNFMLFEKCEVNGAGAHPLFAFLREALPAPSDDATALMTDPKLITWSPVCRN\n",
      "                120 ||||||||||||||||||||||||||||||||||||||||||||||||||||||||||||\n",
      "query           108 VRPGGGFEPNFMLFEKCEVNGAGAHPLFAFLREALPAPSDDATALMTDPKLITWSPVCRN\n",
      "\n",
      "target          158 DVAWNFEKFLVGPDGVPLRRYSRRFQTIDIEPDIEALLSQGPSCA 203\n",
      "                180 ||||||||||||||||||||||||||||||||||||||||----- 225\n",
      "query           168 DVAWNFEKFLVGPDGVPLRRYSRRFQTIDIEPDIEALLSQ----- 208\n",
      "\n"
     ]
    }
   ],
   "source": [
    "from Bio import Align\n",
    "from Bio import SeqIO\n",
    "seq1=SeqIO.read(\"gpx1uniprot.faa\", \"fasta\")\n",
    "seq2=SeqIO.read(\"gpx1pdb.faa\", \"fasta\")\n",
    "aligner=Align.PairwiseAligner()\n",
    "alignments=aligner.align(seq1.seq, seq2.seq)\n",
    "alignment=alignments[0]\n",
    "print(alignment)"
   ]
  }
 ],
 "metadata": {
  "kernelspec": {
   "display_name": "Python 3.10.9 ('openMM')",
   "language": "python",
   "name": "python3"
  },
  "language_info": {
   "codemirror_mode": {
    "name": "ipython",
    "version": 3
   },
   "file_extension": ".py",
   "mimetype": "text/x-python",
   "name": "python",
   "nbconvert_exporter": "python",
   "pygments_lexer": "ipython3",
   "version": "3.10.9"
  },
  "orig_nbformat": 4,
  "vscode": {
   "interpreter": {
    "hash": "d81ffb1aa102778a2c6a719f079553626d1d1d98542cc6134d1f0c1b8778ec1e"
   }
  }
 },
 "nbformat": 4,
 "nbformat_minor": 2
}
