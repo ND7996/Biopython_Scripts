{
 "cells": [
  {
   "cell_type": "code",
   "execution_count": 13,
   "metadata": {},
   "outputs": [
    {
     "name": "stdout",
     "output_type": "stream",
     "text": [
      "╒════════════════════╤════════════════════════════════════════════════════════════════════════════════════════╤═════════════════════════╤════════════════════════════════════════════════╕\n",
      "│ Program            │ Input                                                                                  │ Output                  │ Changed Parameters                             │\n",
      "╞════════════════════╪════════════════════════════════════════════════════════════════════════════════════════╪═════════════════════════╪════════════════════════════════════════════════╡\n",
      "│ QPrep              │ qoplsaa.lib, GPX.lib, qoplsaa_all.prm,.pdb                                             │ GPX.top, GPX.pdb        │                                                │\n",
      "├────────────────────┼────────────────────────────────────────────────────────────────────────────────────────┼─────────────────────────┼────────────────────────────────────────────────┤\n",
      "│ QDyn-relax_001.log │ genrelaxproc, .top,.pdb,correctedfep                                                   │ relax_001.re, .log,.dcd │ (bond angle torsion improper)-solute,solvent=0 │\n",
      "├────────────────────┼────────────────────────────────────────────────────────────────────────────────────────┼─────────────────────────┼────────────────────────────────────────────────┤\n",
      "│ QDyn-relax_002.log │ genrelaxproc, .top,.pdb,correctedfep, relax_001.re                                     │ relax_002.re, .log,.dcd │                                                │\n",
      "├────────────────────┼────────────────────────────────────────────────────────────────────────────────────────┼─────────────────────────┼────────────────────────────────────────────────┤\n",
      "│ QDyn-relax_003.log │ genrelaxproc, .top,.pdb,correctedfep,relax_002.re                                      │ relax_003.re, .log,.dcd │                                                │\n",
      "├────────────────────┼────────────────────────────────────────────────────────────────────────────────────────┼─────────────────────────┼────────────────────────────────────────────────┤\n",
      "│ QFEP               │ relax_008.inp,genfeps.proc,corrected.fep,.pdb,cont_relax_008.re,cont_relax_008.re.rest │ ,.dcd,.log,.en          │                                                │\n",
      "╘════════════════════╧════════════════════════════════════════════════════════════════════════════════════════╧═════════════════════════╧════════════════════════════════════════════════╛\n"
     ]
    }
   ],
   "source": [
    "from tabulate import tabulate\n",
    "\n",
    "# Sample data for the table\n",
    "data = [\n",
    "    ['QPrep', 'qoplsaa.lib, GPX.lib, qoplsaa_all.prm,.pdb', 'GPX.top, GPX.pdb'],\n",
    "    ['QDyn-relax_001.log', 'genrelaxproc, .top,.pdb,correctedfep','relax_001.re, .log,.dcd', '(bond angle torsion improper)-solute,solvent=0'],\n",
    "    ['QDyn-relax_002.log', 'genrelaxproc, .top,.pdb,correctedfep, relax_001.re','relax_002.re, .log,.dcd'],\n",
    "    ['QDyn-relax_003.log', 'genrelaxproc, .top,.pdb,correctedfep,relax_002.re','relax_003.re, .log,.dcd'],\n",
    "    ['QFEP', 'relax_008.inp,genfeps.proc,corrected.fep,.pdb,cont_relax_008.re,cont_relax_008.re.rest', ',.dcd,.log,.en']\n",
    "]\n",
    "\n",
    "# Define the column headers\n",
    "headers = ['Program', 'Input', 'Output','Changed Parameters']\n",
    "max_column_widths = [100,100, 100, 100]\n",
    "\n",
    "# Print the table with tabulate\n",
    "table = tabulate(data, headers=headers, tablefmt='fancy_grid')\n",
    "\n",
    "\n",
    "print(table)"
   ]
  },
  {
   "cell_type": "code",
   "execution_count": 9,
   "metadata": {},
   "outputs": [
    {
     "name": "stdout",
     "output_type": "stream",
     "text": [
      "['Program', 'Input ', 'Output', 'Changed Parameters ']\n",
      "['Qprep', 'qoplsaa.lib, GPX.lib, qoplsaa_all.prm,.pdb  ', 'GPX.top, GPX.pdb    ', '']\n",
      "['Qdyn-relax_001.log', 'genrelaxproc, .top,.pdb,correctedfep    ', 'relax_001.re, .log,.dcd', '']\n",
      "['Qdyn-relax_002.log', 'genrelaxproc, .top,.pdb,correctedfep, relax_001.re    ', 'relax_002.re, .log,.dcd ', '(bond angle torsion improper)-solute,solvent=0 ']\n",
      "['Qdyn-relax_003.log', 'genrelaxproc, .top,.pdb,correctedfep,relax_002.re  ', 'Relax_003.re, .log,.dcd ', '']\n",
      "['Qdyn-relax_004.log', 'genrelaxproc, .top,.pdb,correctedfep,relax_003.re  ', 'Relax_004.re, .log,.dcd ', '']\n",
      "['Qdyn-relax_005.log', 'genrelaxproc, .top,.pdb,correctedfep,relax_004.re  ', 'Relax_005.re, .log,.dcd ', '']\n",
      "['Qdyn-relax_006.log', 'genrelaxproc, .top,.pdb,correctedfep,relax_005.re  ', 'Relax_006.re, .log,.dcd ', '']\n",
      "['Qdyn-relax_007.log', 'genrelaxproc, .top,.pdb,correctedfep,relax_006.re  ', 'Relax_007.re, .log,.dcd ', '']\n",
      "['Qdyn-relax_008.log', 'genrelaxproc, .top,.pdb,correctedfep,relax_007.re  ', 'Relax_008.re, .log,.dcd ', '']\n",
      "['QFEP', ' relax_008.inp,genfeps.proc,corrected.fep,.pdb,cont_relax_008.re,cont_relax_008.re.rest ', ' .dcd,.log,.en   ', '']\n"
     ]
    }
   ],
   "source": [
    "import csv\n",
    "with open('relaxparameters.csv', mode='r') as csv_file:\n",
    "    csv_reader = csv.reader(csv_file, delimiter=',')\n",
    "    for row in csv_reader:\n",
    "        print(row)"
   ]
  },
  {
   "cell_type": "code",
   "execution_count": null,
   "metadata": {},
   "outputs": [],
   "source": []
  }
 ],
 "metadata": {
  "kernelspec": {
   "display_name": "base",
   "language": "python",
   "name": "python3"
  },
  "language_info": {
   "codemirror_mode": {
    "name": "ipython",
    "version": 3
   },
   "file_extension": ".py",
   "mimetype": "text/x-python",
   "name": "python",
   "nbconvert_exporter": "python",
   "pygments_lexer": "ipython3",
   "version": "3.8.10"
  },
  "orig_nbformat": 4
 },
 "nbformat": 4,
 "nbformat_minor": 2
}
